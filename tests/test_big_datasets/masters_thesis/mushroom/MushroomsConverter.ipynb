{
 "cells": [
  {
   "cell_type": "code",
   "execution_count": 1,
   "id": "initial_id",
   "metadata": {
    "collapsed": true,
    "ExecuteTime": {
     "end_time": "2023-10-13T11:59:12.803496Z",
     "start_time": "2023-10-13T11:59:12.310327Z"
    }
   },
   "outputs": [
    {
     "name": "stdout",
     "output_type": "stream",
     "text": [
      "importing Jupyter notebook from ClusterFactors.ipynb\n"
     ]
    }
   ],
   "source": [
    "import pandas as pd\n",
    "import import_ipynb\n",
    "from cluster_factors.cluster_binary_factors import cluster_factors_voting, cluster_factors_rand_un, cluster_factors_corr, cluster_factors_rand\n",
    "import yaml\n",
    "\n",
    "\n",
    "def get_df():\n",
    "    df = pd.read_csv('data/mushrooms.csv')\n",
    "    y_name = 'class_p'\n",
    "\n",
    "    # delete feature for which all instances have the same value\n",
    "    del df['veil-type']\n",
    "    \n",
    "    # convert categorical values into dummies\n",
    "    df = pd.get_dummies(df)\n",
    "    \n",
    "    # delete extra outcome column\n",
    "    del df['class_e']\n",
    "      \n",
    "    return df, y_name\n",
    "\n",
    "\n",
    "def convert_to_dict(test_df, y_name, factors):\n",
    "    \n",
    "    # create a dictionary \n",
    "    cases = []\n",
    "    for i, row in test_df.iterrows():\n",
    "        case = {\n",
    "            \"pi\": [],\n",
    "            \"delta\": [],\n",
    "            \"reason\": [],\n",
    "            \"decision\": None\n",
    "        }\n",
    "        \n",
    "        for col, value in row.items(): # iterate through all factor candidates in case\n",
    "            if value and col != y_name: # only add factor if True\n",
    "                if factors[col] == \"pi\" and value: #  pi (True) factor\n",
    "                    case[\"pi\"].append(col)\n",
    "                elif factors[col] == \"delta\" and value: #  delta (False) factor\n",
    "                    case[\"delta\"].append(col)\n",
    "                else: # todo: neutral/undecided case \n",
    "                    pass\n",
    "        \n",
    "        # for the mushroom dataset the reason is the same as the decision \n",
    "        if row[y_name]:\n",
    "            case[\"reason\"] = case[\"pi\"]\n",
    "            case[\"decision\"] = \"pi\"\n",
    "        elif not row[y_name]:\n",
    "            case[\"reason\"] = case[\"delta\"]  \n",
    "            case[\"decision\"] = \"delta\"\n",
    "            \n",
    "        cases.append(case)\n",
    "    \n",
    "    return cases\n",
    "    \n",
    "def mushroom_to_yaml(cluster_type=\"corr\", test_split=0.5):\n",
    "    # import data, name of the outcome variables \n",
    "    df, y_name = get_df()\n",
    "    \n",
    "    # Set the seed for reproducibility\n",
    "    df = df.sample(frac=1, random_state=42)\n",
    "    \n",
    "    # Determine the split point\n",
    "    # Training is for the factor clustering\n",
    "    split_point = int(test_split * len(df))\n",
    "    \n",
    "    # Split the DataFrame\n",
    "    test_df = df.iloc[:split_point]\n",
    "    train_df = df.iloc[split_point:]\n",
    "    \n",
    "    # get factor clusters using chosen clustering method\n",
    "    if cluster_type == \"corr\": \n",
    "        factors = cluster_factors_corr(train_df, y_name)\n",
    "    elif cluster_type == \"vote\": \n",
    "        factors = cluster_factors_voting(train_df, y_name)\n",
    "    elif cluster_type == \"rand_un\":\n",
    "        factors = cluster_factors_rand_un(train_df, y_name)\n",
    "    else: \n",
    "        factors = cluster_factors_rand(train_df, y_name)\n",
    "\n",
    "    \n",
    "    # get dict format of cases\n",
    "    cases_dict = convert_to_dict(test_df, y_name, factors)    \n",
    "    filename = f\"data/mushrooms-{cluster_type}-test-{test_split}.yaml\"\n",
    "\n",
    "    # Write the dictionary to a new YAML file\n",
    "    with open(filename, \"w\") as yaml_file:\n",
    "        yaml.dump(cases_dict, yaml_file, default_flow_style=False)\n",
    "        \n",
    "    return cases_dict"
   ]
  },
  {
   "cell_type": "code",
   "execution_count": null,
   "outputs": [],
   "source": [],
   "metadata": {
    "collapsed": false
   },
   "id": "9bcf3eda2f17f3cf"
  }
 ],
 "metadata": {
  "kernelspec": {
   "display_name": "Python 3",
   "language": "python",
   "name": "python3"
  },
  "language_info": {
   "codemirror_mode": {
    "name": "ipython",
    "version": 2
   },
   "file_extension": ".py",
   "mimetype": "text/x-python",
   "name": "python",
   "nbconvert_exporter": "python",
   "pygments_lexer": "ipython2",
   "version": "2.7.6"
  }
 },
 "nbformat": 4,
 "nbformat_minor": 5
}
